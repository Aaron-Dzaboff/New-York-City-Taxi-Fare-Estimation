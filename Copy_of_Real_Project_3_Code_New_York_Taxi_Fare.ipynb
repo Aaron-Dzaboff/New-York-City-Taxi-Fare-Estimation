{
  "nbformat": 4,
  "nbformat_minor": 0,
  "metadata": {
    "colab": {
      "name": "Copy of Real Project 3 Code - New York Taxi Fare",
      "provenance": [],
      "collapsed_sections": []
    },
    "kernelspec": {
      "display_name": "Python 3",
      "name": "python3"
    }
  },
  "cells": [
    {
      "cell_type": "code",
      "metadata": {
        "id": "TIZKG9-rs-cf",
        "colab": {
          "base_uri": "https://localhost:8080/"
        },
        "outputId": "e7284176-5a32-45c4-df53-b0004d4cee85"
      },
      "source": [
        "!apt-get update"
      ],
      "execution_count": null,
      "outputs": [
        {
          "output_type": "stream",
          "text": [
            "Ign:1 https://developer.download.nvidia.com/compute/cuda/repos/ubuntu1804/x86_64  InRelease\n",
            "Ign:2 https://developer.download.nvidia.com/compute/machine-learning/repos/ubuntu1804/x86_64  InRelease\n",
            "Hit:3 https://developer.download.nvidia.com/compute/cuda/repos/ubuntu1804/x86_64  Release\n",
            "Hit:4 http://archive.ubuntu.com/ubuntu bionic InRelease\n",
            "Get:5 http://ppa.launchpad.net/c2d4u.team/c2d4u4.0+/ubuntu bionic InRelease [15.9 kB]\n",
            "Hit:6 https://developer.download.nvidia.com/compute/machine-learning/repos/ubuntu1804/x86_64  Release\n",
            "Get:7 http://security.ubuntu.com/ubuntu bionic-security InRelease [88.7 kB]\n",
            "Get:8 http://archive.ubuntu.com/ubuntu bionic-updates InRelease [88.7 kB]\n",
            "Hit:10 http://ppa.launchpad.net/graphics-drivers/ppa/ubuntu bionic InRelease\n",
            "Get:11 http://archive.ubuntu.com/ubuntu bionic-backports InRelease [74.6 kB]\n",
            "Get:12 https://cloud.r-project.org/bin/linux/ubuntu bionic-cran40/ InRelease [3,626 B]\n",
            "Get:14 http://ppa.launchpad.net/c2d4u.team/c2d4u4.0+/ubuntu bionic/main Sources [1,688 kB]\n",
            "Get:15 http://security.ubuntu.com/ubuntu bionic-security/universe amd64 Packages [1,365 kB]\n",
            "Get:16 http://archive.ubuntu.com/ubuntu bionic-updates/multiverse amd64 Packages [54.4 kB]\n",
            "Get:17 http://security.ubuntu.com/ubuntu bionic-security/main amd64 Packages [1,781 kB]\n",
            "Get:18 http://archive.ubuntu.com/ubuntu bionic-updates/universe amd64 Packages [2,130 kB]\n",
            "Get:19 http://ppa.launchpad.net/c2d4u.team/c2d4u4.0+/ubuntu bionic/main amd64 Packages [864 kB]\n",
            "Get:20 http://archive.ubuntu.com/ubuntu bionic-updates/restricted amd64 Packages [252 kB]\n",
            "Get:21 http://archive.ubuntu.com/ubuntu bionic-updates/main amd64 Packages [2,208 kB]\n",
            "Fetched 10.6 MB in 3s (3,036 kB/s)\n",
            "Reading package lists... Done\n"
          ],
          "name": "stdout"
        }
      ]
    },
    {
      "cell_type": "code",
      "metadata": {
        "id": "ZsgVtftztChc"
      },
      "source": [
        "#Setting up Spark environment\n",
        "!apt-get install openjdk-8-jdk-headless -qq > /dev/null\n",
        "!wget -q https://www-us.apache.org/dist/spark/spark-2.4.7/spark-2.4.7-bin-hadoop2.7.tgz\n",
        "!tar xf spark-2.4.7-bin-hadoop2.7.tgz\n",
        "!pip install -q findspark\n",
        "\n",
        "import os\n",
        "os.environ[\"JAVA_HOME\"] = \"/usr/lib/jvm/java-8-openjdk-amd64\"\n",
        "os.environ[\"SPARK_HOME\"] = \"/content/spark-2.4.7-bin-hadoop2.7\"\n",
        "\n",
        "import findspark\n",
        "findspark.init()"
      ],
      "execution_count": null,
      "outputs": []
    },
    {
      "cell_type": "code",
      "metadata": {
        "id": "4H0XgTNOtEyk"
      },
      "source": [
        "from pyspark.sql import SparkSession\n",
        "spark = SparkSession.builder.appName('New_York_Taxi').getOrCreate()"
      ],
      "execution_count": null,
      "outputs": []
    },
    {
      "cell_type": "code",
      "metadata": {
        "id": "EmrgET54tGts",
        "colab": {
          "base_uri": "https://localhost:8080/"
        },
        "outputId": "3de35292-f677-4298-ae01-5b535da48164"
      },
      "source": [
        "#Getting the data\n",
        "!wget https://s3.amazonaws.com/nyc-tlc/trip+data/yellow_tripdata_2020-01.csv\n",
        "!get https://s3.amazonaws.com/nyc-tlc/trip+data/green_tripdata_2020-01.csv\n",
        "\n",
        "!wget https://s3.amazonaws.com/nyc-tlc/trip+data/yellow_tripdata_2020-02.csv\n",
        "!wget https://s3.amazonaws.com/nyc-tlc/trip+data/green_tripdata_2020-02.csv\n",
        "\n",
        "!wget https://s3.amazonaws.com/nyc-tlc/trip+data/yellow_tripdata_2020-03.csv\n",
        "!wget https://s3.amazonaws.com/nyc-tlc/trip+data/green_tripdata_2020-03.csv\n",
        "\n",
        "!wget https://s3.amazonaws.com/nyc-tlc/trip+data/yellow_tripdata_2020-04.csv\n",
        "!wget https://s3.amazonaws.com/nyc-tlc/trip+data/green_tripdata_2020-04.csv\n",
        "\n",
        "!wget https://s3.amazonaws.com/nyc-tlc/trip+data/yellow_tripdata_2020-05.csv\n",
        "!wget https://s3.amazonaws.com/nyc-tlc/trip+data/green_tripdata_2020-05.csv\n",
        "\n",
        "!wget https://s3.amazonaws.com/nyc-tlc/trip+data/yellow_tripdata_2020-06.csv\n",
        "!wget https://s3.amazonaws.com/nyc-tlc/trip+data/green_tripdata_2020-06.csv\n",
        "\n",
        "!wget https://s3.amazonaws.com/nyc-tlc/trip+data/yellow_tripdata_2019-01.csv\n",
        "!wget https://s3.amazonaws.com/nyc-tlc/trip+data/green_tripdata_2019-01.csv\n",
        "\n",
        "!wget https://s3.amazonaws.com/nyc-tlc/trip+data/yellow_tripdata_2019-02.csv\n",
        "!wget https://s3.amazonaws.com/nyc-tlc/trip+data/green_tripdata_2019-02.csv\n",
        "\n",
        "!wget https://s3.amazonaws.com/nyc-tlc/trip+data/yellow_tripdata_2019-03.csv\n",
        "!wget https://s3.amazonaws.com/nyc-tlc/trip+data/green_tripdata_2019-03.csv\n",
        "\n",
        "!wget https://s3.amazonaws.com/nyc-tlc/trip+data/yellow_tripdata_2019-04.csv\n",
        "!wget https://s3.amazonaws.com/nyc-tlc/trip+data/green_tripdata_2019-04.csv\n",
        "\n",
        "!wget https://s3.amazonaws.com/nyc-tlc/trip+data/yellow_tripdata_2019-05.csv\n",
        "!wget https://s3.amazonaws.com/nyc-tlc/trip+data/green_tripdata_2019-05.csv\n",
        "\n",
        "!wget https://s3.amazonaws.com/nyc-tlc/trip+data/yellow_tripdata_2019-06.csv\n",
        "!wget https://s3.amazonaws.com/nyc-tlc/trip+data/green_tripdata_2019-06.csv\n",
        "\n",
        "!wget https://nyc-tlc.s3.amazonaws.com/trip+data/yellow_tripdata_2019-07.csv\n",
        "!wget https://nyc-tlc.s3.amazonaws.com/trip+data/green_tripdata_2019-07.csv\n",
        "\n",
        "!wget https://nyc-tlc.s3.amazonaws.com/trip+data/yellow_tripdata_2019-08.csv\n",
        "!get https://nyc-tlc.s3.amazonaws.com/trip+data/green_tripdata_2019-08.csv\n",
        "\n",
        "!wget https://nyc-tlc.s3.amazonaws.com/trip+data/yellow_tripdata_2019-09.csv\n",
        "!wget https://nyc-tlc.s3.amazonaws.com/trip+data/green_tripdata_2019-09.csv\n",
        "\n",
        "!wget https://nyc-tlc.s3.amazonaws.com/trip+data/yellow_tripdata_2019-10.csv\n",
        "!get https://nyc-tlc.s3.amazonaws.com/trip+data/green_tripdata_2019-10.csv\n",
        "\n",
        "!wget https://nyc-tlc.s3.amazonaws.com/trip+data/yellow_tripdata_2019-11.csv\n",
        "!wget https://nyc-tlc.s3.amazonaws.com/trip+data/green_tripdata_2019-11.csv\n",
        "\n",
        "!wget https://nyc-tlc.s3.amazonaws.com/trip+data/yellow_tripdata_2019-12.csv\n",
        "!wget https://nyc-tlc.s3.amazonaws.com/trip+data/green_tripdata_2019-12.csv"
      ],
      "execution_count": null,
      "outputs": [
        {
          "output_type": "stream",
          "text": [
            "--2020-11-17 15:04:32--  https://s3.amazonaws.com/nyc-tlc/trip+data/yellow_tripdata_2020-01.csv\n",
            "Resolving s3.amazonaws.com (s3.amazonaws.com)... 52.216.18.147\n",
            "Connecting to s3.amazonaws.com (s3.amazonaws.com)|52.216.18.147|:443... connected.\n",
            "HTTP request sent, awaiting response... 200 OK\n",
            "Length: 593610736 (566M) [text/csv]\n",
            "Saving to: ‘yellow_tripdata_2020-01.csv’\n",
            "\n",
            "yellow_tripdata_202 100%[===================>] 566.11M  72.4MB/s    in 9.1s    \n",
            "\n",
            "2020-11-17 15:04:41 (62.1 MB/s) - ‘yellow_tripdata_2020-01.csv’ saved [593610736/593610736]\n",
            "\n",
            "/bin/bash: get: command not found\n",
            "--2020-11-17 15:04:41--  https://s3.amazonaws.com/nyc-tlc/trip+data/yellow_tripdata_2020-02.csv\n",
            "Resolving s3.amazonaws.com (s3.amazonaws.com)... 52.216.78.182\n",
            "Connecting to s3.amazonaws.com (s3.amazonaws.com)|52.216.78.182|:443... connected.\n",
            "HTTP request sent, awaiting response... 200 OK\n",
            "Length: 584190585 (557M) [text/csv]\n",
            "Saving to: ‘yellow_tripdata_2020-02.csv’\n",
            "\n",
            "yellow_tripdata_202 100%[===================>] 557.13M  49.5MB/s    in 10s     \n",
            "\n",
            "2020-11-17 15:04:52 (54.3 MB/s) - ‘yellow_tripdata_2020-02.csv’ saved [584190585/584190585]\n",
            "\n",
            "--2020-11-17 15:04:52--  https://s3.amazonaws.com/nyc-tlc/trip+data/green_tripdata_2020-02.csv\n",
            "Resolving s3.amazonaws.com (s3.amazonaws.com)... 52.217.0.77\n",
            "Connecting to s3.amazonaws.com (s3.amazonaws.com)|52.217.0.77|:443... connected.\n",
            "HTTP request sent, awaiting response... 200 OK\n",
            "Length: 36427762 (35M) [text/csv]\n",
            "Saving to: ‘green_tripdata_2020-02.csv’\n",
            "\n",
            "green_tripdata_2020 100%[===================>]  34.74M  68.6MB/s    in 0.5s    \n",
            "\n",
            "2020-11-17 15:04:52 (68.6 MB/s) - ‘green_tripdata_2020-02.csv’ saved [36427762/36427762]\n",
            "\n",
            "--2020-11-17 15:04:53--  https://s3.amazonaws.com/nyc-tlc/trip+data/yellow_tripdata_2020-03.csv\n",
            "Resolving s3.amazonaws.com (s3.amazonaws.com)... 52.217.45.214\n",
            "Connecting to s3.amazonaws.com (s3.amazonaws.com)|52.217.45.214|:443... connected.\n",
            "HTTP request sent, awaiting response... 200 OK\n",
            "Length: 278288608 (265M) [text/csv]\n",
            "Saving to: ‘yellow_tripdata_2020-03.csv’\n",
            "\n",
            "yellow_tripdata_202 100%[===================>] 265.40M  61.6MB/s    in 4.4s    \n",
            "\n",
            "2020-11-17 15:04:57 (60.5 MB/s) - ‘yellow_tripdata_2020-03.csv’ saved [278288608/278288608]\n",
            "\n",
            "--2020-11-17 15:04:57--  https://s3.amazonaws.com/nyc-tlc/trip+data/green_tripdata_2020-03.csv\n",
            "Resolving s3.amazonaws.com (s3.amazonaws.com)... 52.216.142.198\n",
            "Connecting to s3.amazonaws.com (s3.amazonaws.com)|52.216.142.198|:443... connected.\n",
            "HTTP request sent, awaiting response... 200 OK\n",
            "Length: 20189664 (19M) [text/csv]\n",
            "Saving to: ‘green_tripdata_2020-03.csv’\n",
            "\n",
            "green_tripdata_2020 100%[===================>]  19.25M  27.9MB/s    in 0.7s    \n",
            "\n",
            "2020-11-17 15:04:58 (27.9 MB/s) - ‘green_tripdata_2020-03.csv’ saved [20189664/20189664]\n",
            "\n",
            "--2020-11-17 15:04:58--  https://s3.amazonaws.com/nyc-tlc/trip+data/yellow_tripdata_2020-04.csv\n",
            "Resolving s3.amazonaws.com (s3.amazonaws.com)... 52.217.100.126\n",
            "Connecting to s3.amazonaws.com (s3.amazonaws.com)|52.217.100.126|:443... connected.\n",
            "HTTP request sent, awaiting response... 200 OK\n",
            "Length: 21662261 (21M) [text/csv]\n",
            "Saving to: ‘yellow_tripdata_2020-04.csv’\n",
            "\n",
            "yellow_tripdata_202 100%[===================>]  20.66M  82.7MB/s    in 0.2s    \n",
            "\n",
            "2020-11-17 15:04:59 (82.7 MB/s) - ‘yellow_tripdata_2020-04.csv’ saved [21662261/21662261]\n",
            "\n",
            "--2020-11-17 15:04:59--  https://s3.amazonaws.com/nyc-tlc/trip+data/green_tripdata_2020-04.csv\n",
            "Resolving s3.amazonaws.com (s3.amazonaws.com)... 52.217.11.150\n",
            "Connecting to s3.amazonaws.com (s3.amazonaws.com)|52.217.11.150|:443... connected.\n",
            "HTTP request sent, awaiting response... 200 OK\n",
            "Length: 3210216 (3.1M) [text/csv]\n",
            "Saving to: ‘green_tripdata_2020-04.csv’\n",
            "\n",
            "green_tripdata_2020 100%[===================>]   3.06M  --.-KB/s    in 0.1s    \n",
            "\n",
            "2020-11-17 15:04:59 (22.2 MB/s) - ‘green_tripdata_2020-04.csv’ saved [3210216/3210216]\n",
            "\n",
            "--2020-11-17 15:04:59--  https://s3.amazonaws.com/nyc-tlc/trip+data/yellow_tripdata_2020-05.csv\n",
            "Resolving s3.amazonaws.com (s3.amazonaws.com)... 52.217.11.150\n",
            "Connecting to s3.amazonaws.com (s3.amazonaws.com)|52.217.11.150|:443... connected.\n",
            "HTTP request sent, awaiting response... 200 OK\n",
            "Length: 31641590 (30M) [text/csv]\n",
            "Saving to: ‘yellow_tripdata_2020-05.csv’\n",
            "\n",
            "yellow_tripdata_202 100%[===================>]  30.17M  94.4MB/s    in 0.3s    \n",
            "\n",
            "2020-11-17 15:05:00 (94.4 MB/s) - ‘yellow_tripdata_2020-05.csv’ saved [31641590/31641590]\n",
            "\n",
            "--2020-11-17 15:05:00--  https://s3.amazonaws.com/nyc-tlc/trip+data/green_tripdata_2020-05.csv\n",
            "Resolving s3.amazonaws.com (s3.amazonaws.com)... 52.217.11.150\n",
            "Connecting to s3.amazonaws.com (s3.amazonaws.com)|52.217.11.150|:443... connected.\n",
            "HTTP request sent, awaiting response... 200 OK\n",
            "Length: 5124005 (4.9M) [text/csv]\n",
            "Saving to: ‘green_tripdata_2020-05.csv’\n",
            "\n",
            "green_tripdata_2020 100%[===================>]   4.89M  24.6MB/s    in 0.2s    \n",
            "\n",
            "2020-11-17 15:05:00 (24.6 MB/s) - ‘green_tripdata_2020-05.csv’ saved [5124005/5124005]\n",
            "\n",
            "--2020-11-17 15:05:00--  https://s3.amazonaws.com/nyc-tlc/trip+data/yellow_tripdata_2020-06.csv\n",
            "Resolving s3.amazonaws.com (s3.amazonaws.com)... 52.217.11.150\n",
            "Connecting to s3.amazonaws.com (s3.amazonaws.com)|52.217.11.150|:443... connected.\n",
            "HTTP request sent, awaiting response... 200 OK\n",
            "Length: 50277193 (48M) [text/csv]\n",
            "Saving to: ‘yellow_tripdata_2020-06.csv’\n",
            "\n",
            "yellow_tripdata_202 100%[===================>]  47.95M   101MB/s    in 0.5s    \n",
            "\n",
            "2020-11-17 15:05:01 (101 MB/s) - ‘yellow_tripdata_2020-06.csv’ saved [50277193/50277193]\n",
            "\n",
            "--2020-11-17 15:05:01--  https://s3.amazonaws.com/nyc-tlc/trip+data/green_tripdata_2020-06.csv\n",
            "Resolving s3.amazonaws.com (s3.amazonaws.com)... 52.217.11.150\n",
            "Connecting to s3.amazonaws.com (s3.amazonaws.com)|52.217.11.150|:443... connected.\n",
            "HTTP request sent, awaiting response... 200 OK\n",
            "Length: 5689051 (5.4M) [text/csv]\n",
            "Saving to: ‘green_tripdata_2020-06.csv’\n",
            "\n",
            "green_tripdata_2020 100%[===================>]   5.42M  --.-KB/s    in 0.1s    \n",
            "\n",
            "2020-11-17 15:05:01 (43.8 MB/s) - ‘green_tripdata_2020-06.csv’ saved [5689051/5689051]\n",
            "\n",
            "--2020-11-17 15:05:01--  https://s3.amazonaws.com/nyc-tlc/trip+data/yellow_tripdata_2019-01.csv\n",
            "Resolving s3.amazonaws.com (s3.amazonaws.com)... 52.217.11.150\n",
            "Connecting to s3.amazonaws.com (s3.amazonaws.com)|52.217.11.150|:443... connected.\n",
            "HTTP request sent, awaiting response... 200 OK\n",
            "Length: 687088084 (655M) [text/csv]\n",
            "Saving to: ‘yellow_tripdata_2019-01.csv’\n",
            "\n",
            "yellow_tripdata_201 100%[===================>] 655.26M  16.7MB/s    in 63s     \n",
            "\n",
            "2020-11-17 15:06:05 (10.4 MB/s) - ‘yellow_tripdata_2019-01.csv’ saved [687088084/687088084]\n",
            "\n",
            "--2020-11-17 15:06:05--  https://s3.amazonaws.com/nyc-tlc/trip+data/green_tripdata_2019-01.csv\n",
            "Resolving s3.amazonaws.com (s3.amazonaws.com)... 52.217.98.254\n",
            "Connecting to s3.amazonaws.com (s3.amazonaws.com)|52.217.98.254|:443... connected.\n",
            "HTTP request sent, awaiting response... 200 OK\n",
            "Length: 57150546 (55M) [text/csv]\n",
            "Saving to: ‘green_tripdata_2019-01.csv’\n",
            "\n",
            "green_tripdata_2019 100%[===================>]  54.50M  45.4MB/s    in 1.2s    \n",
            "\n",
            "2020-11-17 15:06:06 (45.4 MB/s) - ‘green_tripdata_2019-01.csv’ saved [57150546/57150546]\n",
            "\n",
            "--2020-11-17 15:06:06--  https://s3.amazonaws.com/nyc-tlc/trip+data/yellow_tripdata_2019-02.csv\n",
            "Resolving s3.amazonaws.com (s3.amazonaws.com)... 52.217.34.62\n",
            "Connecting to s3.amazonaws.com (s3.amazonaws.com)|52.217.34.62|:443... connected.\n",
            "HTTP request sent, awaiting response... 200 OK\n",
            "Length: 649882828 (620M) [text/csv]\n",
            "Saving to: ‘yellow_tripdata_2019-02.csv’\n",
            "\n",
            "yellow_tripdata_201 100%[===================>] 619.78M  59.2MB/s    in 9.9s    \n",
            "\n",
            "2020-11-17 15:06:16 (62.5 MB/s) - ‘yellow_tripdata_2019-02.csv’ saved [649882828/649882828]\n",
            "\n",
            "--2020-11-17 15:06:16--  https://s3.amazonaws.com/nyc-tlc/trip+data/green_tripdata_2019-02.csv\n",
            "Resolving s3.amazonaws.com (s3.amazonaws.com)... 52.216.114.93\n",
            "Connecting to s3.amazonaws.com (s3.amazonaws.com)|52.216.114.93|:443... connected.\n",
            "HTTP request sent, awaiting response... 200 OK\n",
            "Length: 52931812 (50M) [text/csv]\n",
            "Saving to: ‘green_tripdata_2019-02.csv’\n",
            "\n",
            "green_tripdata_2019 100%[===================>]  50.48M  76.6MB/s    in 0.7s    \n",
            "\n",
            "2020-11-17 15:06:17 (76.6 MB/s) - ‘green_tripdata_2019-02.csv’ saved [52931812/52931812]\n",
            "\n",
            "--2020-11-17 15:06:17--  https://s3.amazonaws.com/nyc-tlc/trip+data/yellow_tripdata_2019-03.csv\n",
            "Resolving s3.amazonaws.com (s3.amazonaws.com)... 52.216.29.70\n",
            "Connecting to s3.amazonaws.com (s3.amazonaws.com)|52.216.29.70|:443... connected.\n",
            "HTTP request sent, awaiting response... 200 OK\n",
            "Length: 726201566 (693M) [text/csv]\n",
            "Saving to: ‘yellow_tripdata_2019-03.csv’\n",
            "\n",
            "yellow_tripdata_201 100%[===================>] 692.56M  63.9MB/s    in 12s     \n",
            "\n",
            "2020-11-17 15:06:30 (56.0 MB/s) - ‘yellow_tripdata_2019-03.csv’ saved [726201566/726201566]\n",
            "\n",
            "--2020-11-17 15:06:30--  https://s3.amazonaws.com/nyc-tlc/trip+data/green_tripdata_2019-03.csv\n",
            "Resolving s3.amazonaws.com (s3.amazonaws.com)... 52.217.88.238\n",
            "Connecting to s3.amazonaws.com (s3.amazonaws.com)|52.217.88.238|:443... connected.\n",
            "HTTP request sent, awaiting response... 200 OK\n",
            "Length: 55279989 (53M) [text/csv]\n",
            "Saving to: ‘green_tripdata_2019-03.csv’\n",
            "\n",
            "green_tripdata_2019 100%[===================>]  52.72M  65.5MB/s    in 0.8s    \n",
            "\n",
            "2020-11-17 15:06:31 (65.5 MB/s) - ‘green_tripdata_2019-03.csv’ saved [55279989/55279989]\n",
            "\n",
            "--2020-11-17 15:06:31--  https://s3.amazonaws.com/nyc-tlc/trip+data/yellow_tripdata_2019-04.csv\n",
            "Resolving s3.amazonaws.com (s3.amazonaws.com)... 52.217.88.238\n",
            "Connecting to s3.amazonaws.com (s3.amazonaws.com)|52.217.88.238|:443... connected.\n",
            "HTTP request sent, awaiting response... 200 OK\n",
            "Length: 689207122 (657M) [text/csv]\n",
            "Saving to: ‘yellow_tripdata_2019-04.csv’\n",
            "\n",
            "yellow_tripdata_201 100%[===================>] 657.28M  35.1MB/s    in 19s     \n",
            "\n",
            "2020-11-17 15:06:50 (35.0 MB/s) - ‘yellow_tripdata_2019-04.csv’ saved [689207122/689207122]\n",
            "\n",
            "--2020-11-17 15:06:50--  https://s3.amazonaws.com/nyc-tlc/trip+data/green_tripdata_2019-04.csv\n",
            "Resolving s3.amazonaws.com (s3.amazonaws.com)... 52.216.241.78\n",
            "Connecting to s3.amazonaws.com (s3.amazonaws.com)|52.216.241.78|:443... connected.\n",
            "HTTP request sent, awaiting response... 200 OK\n",
            "Length: 47348207 (45M) [text/csv]\n",
            "Saving to: ‘green_tripdata_2019-04.csv’\n",
            "\n",
            "green_tripdata_2019 100%[===================>]  45.15M  71.1MB/s    in 0.6s    \n",
            "\n",
            "2020-11-17 15:06:51 (71.1 MB/s) - ‘green_tripdata_2019-04.csv’ saved [47348207/47348207]\n",
            "\n",
            "--2020-11-17 15:06:51--  https://s3.amazonaws.com/nyc-tlc/trip+data/yellow_tripdata_2019-05.csv\n",
            "Resolving s3.amazonaws.com (s3.amazonaws.com)... 52.216.241.78\n",
            "Connecting to s3.amazonaws.com (s3.amazonaws.com)|52.216.241.78|:443... connected.\n",
            "HTTP request sent, awaiting response... 200 OK\n",
            "Length: 701538890 (669M) [text/csv]\n",
            "Saving to: ‘yellow_tripdata_2019-05.csv’\n",
            "\n",
            "yellow_tripdata_201 100%[===================>] 669.04M  64.1MB/s    in 12s     \n",
            "\n",
            "2020-11-17 15:07:03 (55.3 MB/s) - ‘yellow_tripdata_2019-05.csv’ saved [701538890/701538890]\n",
            "\n",
            "--2020-11-17 15:07:03--  https://s3.amazonaws.com/nyc-tlc/trip+data/green_tripdata_2019-05.csv\n",
            "Resolving s3.amazonaws.com (s3.amazonaws.com)... 52.216.29.166\n",
            "Connecting to s3.amazonaws.com (s3.amazonaws.com)|52.216.29.166|:443... connected.\n",
            "HTTP request sent, awaiting response... 200 OK\n",
            "Length: 46448105 (44M) [text/csv]\n",
            "Saving to: ‘green_tripdata_2019-05.csv’\n",
            "\n",
            "green_tripdata_2019 100%[===================>]  44.30M  48.6MB/s    in 0.9s    \n",
            "\n",
            "2020-11-17 15:07:05 (48.6 MB/s) - ‘green_tripdata_2019-05.csv’ saved [46448105/46448105]\n",
            "\n",
            "--2020-11-17 15:07:05--  https://s3.amazonaws.com/nyc-tlc/trip+data/yellow_tripdata_2019-06.csv\n",
            "Resolving s3.amazonaws.com (s3.amazonaws.com)... 52.216.29.166\n",
            "Connecting to s3.amazonaws.com (s3.amazonaws.com)|52.216.29.166|:443... connected.\n",
            "HTTP request sent, awaiting response... 200 OK\n",
            "Length: 643492154 (614M) [text/csv]\n",
            "Saving to: ‘yellow_tripdata_2019-06.csv’\n",
            "\n",
            "yellow_tripdata_201 100%[===================>] 613.68M  55.3MB/s    in 11s     \n",
            "\n",
            "2020-11-17 15:07:16 (55.7 MB/s) - ‘yellow_tripdata_2019-06.csv’ saved [643492154/643492154]\n",
            "\n",
            "--2020-11-17 15:07:16--  https://s3.amazonaws.com/nyc-tlc/trip+data/green_tripdata_2019-06.csv\n",
            "Resolving s3.amazonaws.com (s3.amazonaws.com)... 52.217.64.142\n",
            "Connecting to s3.amazonaws.com (s3.amazonaws.com)|52.217.64.142|:443... connected.\n",
            "HTTP request sent, awaiting response... 200 OK\n",
            "Length: 43354841 (41M) [text/csv]\n",
            "Saving to: ‘green_tripdata_2019-06.csv’\n",
            "\n",
            "green_tripdata_2019 100%[===================>]  41.35M  57.2MB/s    in 0.7s    \n",
            "\n",
            "2020-11-17 15:07:17 (57.2 MB/s) - ‘green_tripdata_2019-06.csv’ saved [43354841/43354841]\n",
            "\n",
            "--2020-11-17 15:07:17--  https://nyc-tlc.s3.amazonaws.com/trip+data/yellow_tripdata_2019-07.csv\n",
            "Resolving nyc-tlc.s3.amazonaws.com (nyc-tlc.s3.amazonaws.com)... 52.216.152.108\n",
            "Connecting to nyc-tlc.s3.amazonaws.com (nyc-tlc.s3.amazonaws.com)|52.216.152.108|:443... connected.\n",
            "HTTP request sent, awaiting response... 200 OK\n",
            "Length: 584387609 (557M) [text/csv]\n",
            "Saving to: ‘yellow_tripdata_2019-07.csv’\n",
            "\n",
            "yellow_tripdata_201 100%[===================>] 557.32M  65.8MB/s    in 8.1s    \n",
            "\n",
            "2020-11-17 15:07:25 (69.2 MB/s) - ‘yellow_tripdata_2019-07.csv’ saved [584387609/584387609]\n",
            "\n",
            "--2020-11-17 15:07:25--  https://nyc-tlc.s3.amazonaws.com/trip+data/green_tripdata_2019-07.csv\n",
            "Resolving nyc-tlc.s3.amazonaws.com (nyc-tlc.s3.amazonaws.com)... 52.216.76.204\n",
            "Connecting to nyc-tlc.s3.amazonaws.com (nyc-tlc.s3.amazonaws.com)|52.216.76.204|:443... connected.\n",
            "HTTP request sent, awaiting response... 200 OK\n",
            "Length: 43143777 (41M) [text/csv]\n",
            "Saving to: ‘green_tripdata_2019-07.csv’\n",
            "\n",
            "green_tripdata_2019 100%[===================>]  41.14M  41.3MB/s    in 1.0s    \n",
            "\n",
            "2020-11-17 15:07:26 (41.3 MB/s) - ‘green_tripdata_2019-07.csv’ saved [43143777/43143777]\n",
            "\n",
            "--2020-11-17 15:07:27--  https://nyc-tlc.s3.amazonaws.com/trip+data/yellow_tripdata_2019-08.csv\n",
            "Resolving nyc-tlc.s3.amazonaws.com (nyc-tlc.s3.amazonaws.com)... 52.216.76.204\n",
            "Connecting to nyc-tlc.s3.amazonaws.com (nyc-tlc.s3.amazonaws.com)|52.216.76.204|:443... connected.\n",
            "HTTP request sent, awaiting response... 200 OK\n",
            "Length: 562386202 (536M) [text/csv]\n",
            "Saving to: ‘yellow_tripdata_2019-08.csv’\n",
            "\n",
            "yellow_tripdata_201 100%[===================>] 536.33M  76.4MB/s    in 8.6s    \n",
            "\n",
            "2020-11-17 15:07:35 (62.3 MB/s) - ‘yellow_tripdata_2019-08.csv’ saved [562386202/562386202]\n",
            "\n",
            "/bin/bash: get: command not found\n",
            "--2020-11-17 15:07:36--  https://nyc-tlc.s3.amazonaws.com/trip+data/yellow_tripdata_2019-09.csv\n",
            "Resolving nyc-tlc.s3.amazonaws.com (nyc-tlc.s3.amazonaws.com)... 52.216.161.243\n",
            "Connecting to nyc-tlc.s3.amazonaws.com (nyc-tlc.s3.amazonaws.com)|52.216.161.243|:443... connected.\n",
            "HTTP request sent, awaiting response... 200 OK\n",
            "Length: 608973500 (581M) [text/csv]\n",
            "Saving to: ‘yellow_tripdata_2019-09.csv’\n",
            "\n",
            "yellow_tripdata_201 100%[===================>] 580.76M  75.7MB/s    in 7.2s    \n",
            "\n",
            "2020-11-17 15:07:43 (80.8 MB/s) - ‘yellow_tripdata_2019-09.csv’ saved [608973500/608973500]\n",
            "\n",
            "--2020-11-17 15:07:43--  https://nyc-tlc.s3.amazonaws.com/trip+data/green_tripdata_2019-09.csv\n",
            "Resolving nyc-tlc.s3.amazonaws.com (nyc-tlc.s3.amazonaws.com)... 52.216.236.131\n",
            "Connecting to nyc-tlc.s3.amazonaws.com (nyc-tlc.s3.amazonaws.com)|52.216.236.131|:443... connected.\n",
            "HTTP request sent, awaiting response... 200 OK\n",
            "Length: 41124323 (39M) [text/csv]\n",
            "Saving to: ‘green_tripdata_2019-09.csv’\n",
            "\n",
            "green_tripdata_2019 100%[===================>]  39.22M  57.6MB/s    in 0.7s    \n",
            "\n",
            "2020-11-17 15:07:44 (57.6 MB/s) - ‘green_tripdata_2019-09.csv’ saved [41124323/41124323]\n",
            "\n",
            "--2020-11-17 15:07:44--  https://nyc-tlc.s3.amazonaws.com/trip+data/yellow_tripdata_2019-10.csv\n",
            "Resolving nyc-tlc.s3.amazonaws.com (nyc-tlc.s3.amazonaws.com)... 52.217.10.108\n",
            "Connecting to nyc-tlc.s3.amazonaws.com (nyc-tlc.s3.amazonaws.com)|52.217.10.108|:443... connected.\n",
            "HTTP request sent, awaiting response... 200 OK\n",
            "Length: 669168416 (638M) [text/csv]\n",
            "Saving to: ‘yellow_tripdata_2019-10.csv’\n",
            "\n",
            "yellow_tripdata_201 100%[===================>] 638.17M  62.8MB/s    in 11s     \n",
            "\n",
            "2020-11-17 15:07:56 (55.6 MB/s) - ‘yellow_tripdata_2019-10.csv’ saved [669168416/669168416]\n",
            "\n",
            "/bin/bash: get: command not found\n",
            "--2020-11-17 15:07:56--  https://nyc-tlc.s3.amazonaws.com/trip+data/yellow_tripdata_2019-11.csv\n",
            "Resolving nyc-tlc.s3.amazonaws.com (nyc-tlc.s3.amazonaws.com)... 52.216.24.92\n",
            "Connecting to nyc-tlc.s3.amazonaws.com (nyc-tlc.s3.amazonaws.com)|52.216.24.92|:443... connected.\n",
            "HTTP request sent, awaiting response... 200 OK\n",
            "Length: 637807959 (608M) [text/csv]\n",
            "Saving to: ‘yellow_tripdata_2019-11.csv’\n",
            "\n",
            "yellow_tripdata_201 100%[===================>] 608.26M  58.2MB/s    in 10s     \n",
            "\n",
            "2020-11-17 15:08:07 (58.8 MB/s) - ‘yellow_tripdata_2019-11.csv’ saved [637807959/637807959]\n",
            "\n",
            "--2020-11-17 15:08:07--  https://nyc-tlc.s3.amazonaws.com/trip+data/green_tripdata_2019-11.csv\n",
            "Resolving nyc-tlc.s3.amazonaws.com (nyc-tlc.s3.amazonaws.com)... 52.216.237.75\n",
            "Connecting to nyc-tlc.s3.amazonaws.com (nyc-tlc.s3.amazonaws.com)|52.216.237.75|:443... connected.\n",
            "HTTP request sent, awaiting response... 200 OK\n",
            "Length: 41115708 (39M) [text/csv]\n",
            "Saving to: ‘green_tripdata_2019-11.csv’\n",
            "\n",
            "green_tripdata_2019 100%[===================>]  39.21M  31.2MB/s    in 1.3s    \n",
            "\n",
            "2020-11-17 15:08:08 (31.2 MB/s) - ‘green_tripdata_2019-11.csv’ saved [41115708/41115708]\n",
            "\n",
            "--2020-11-17 15:08:08--  https://nyc-tlc.s3.amazonaws.com/trip+data/yellow_tripdata_2019-12.csv\n",
            "Resolving nyc-tlc.s3.amazonaws.com (nyc-tlc.s3.amazonaws.com)... 52.217.32.212\n",
            "Connecting to nyc-tlc.s3.amazonaws.com (nyc-tlc.s3.amazonaws.com)|52.217.32.212|:443... connected.\n",
            "HTTP request sent, awaiting response... 200 OK\n",
            "Length: 639108129 (610M) [text/csv]\n",
            "Saving to: ‘yellow_tripdata_2019-12.csv’\n",
            "\n",
            "yellow_tripdata_201 100%[===================>] 609.50M  71.3MB/s    in 9.2s    \n",
            "\n",
            "2020-11-17 15:08:18 (66.2 MB/s) - ‘yellow_tripdata_2019-12.csv’ saved [639108129/639108129]\n",
            "\n",
            "--2020-11-17 15:08:18--  https://nyc-tlc.s3.amazonaws.com/trip+data/green_tripdata_2019-12.csv\n",
            "Resolving nyc-tlc.s3.amazonaws.com (nyc-tlc.s3.amazonaws.com)... 52.217.90.124\n",
            "Connecting to nyc-tlc.s3.amazonaws.com (nyc-tlc.s3.amazonaws.com)|52.217.90.124|:443... connected.\n",
            "HTTP request sent, awaiting response... 200 OK\n",
            "Length: 41147811 (39M) [text/csv]\n",
            "Saving to: ‘green_tripdata_2019-12.csv’\n",
            "\n",
            "green_tripdata_2019 100%[===================>]  39.24M  66.3MB/s    in 0.6s    \n",
            "\n",
            "2020-11-17 15:08:19 (66.3 MB/s) - ‘green_tripdata_2019-12.csv’ saved [41147811/41147811]\n",
            "\n"
          ],
          "name": "stdout"
        }
      ]
    },
    {
      "cell_type": "code",
      "metadata": {
        "id": "_vcKuBNQtOd4",
        "colab": {
          "base_uri": "https://localhost:8080/"
        },
        "outputId": "cd06c2f0-8f44-49ac-c47f-6a7c3ff353ad"
      },
      "source": [
        "!ls"
      ],
      "execution_count": null,
      "outputs": [
        {
          "output_type": "stream",
          "text": [
            "green_tripdata_2019-01.csv     yellow_tripdata_2019-01.csv\n",
            "green_tripdata_2019-02.csv     yellow_tripdata_2019-02.csv\n",
            "green_tripdata_2019-03.csv     yellow_tripdata_2019-03.csv\n",
            "green_tripdata_2019-04.csv     yellow_tripdata_2019-04.csv\n",
            "green_tripdata_2019-05.csv     yellow_tripdata_2019-05.csv\n",
            "green_tripdata_2019-06.csv     yellow_tripdata_2019-06.csv\n",
            "green_tripdata_2019-07.csv     yellow_tripdata_2019-07.csv\n",
            "green_tripdata_2019-09.csv     yellow_tripdata_2019-08.csv\n",
            "green_tripdata_2019-11.csv     yellow_tripdata_2019-09.csv\n",
            "green_tripdata_2019-12.csv     yellow_tripdata_2019-10.csv\n",
            "green_tripdata_2020-02.csv     yellow_tripdata_2019-11.csv\n",
            "green_tripdata_2020-03.csv     yellow_tripdata_2019-12.csv\n",
            "green_tripdata_2020-04.csv     yellow_tripdata_2020-01.csv\n",
            "green_tripdata_2020-05.csv     yellow_tripdata_2020-02.csv\n",
            "green_tripdata_2020-06.csv     yellow_tripdata_2020-03.csv\n",
            "sample_data\t\t       yellow_tripdata_2020-04.csv\n",
            "spark-2.4.7-bin-hadoop2.7      yellow_tripdata_2020-05.csv\n",
            "spark-2.4.7-bin-hadoop2.7.tgz  yellow_tripdata_2020-06.csv\n"
          ],
          "name": "stdout"
        }
      ]
    },
    {
      "cell_type": "code",
      "metadata": {
        "id": "HYbHjxgjtRe9",
        "colab": {
          "base_uri": "https://localhost:8080/"
        },
        "outputId": "8fec1be0-1809-4be3-b6ab-b4f678408eae"
      },
      "source": [
        "yellow_jan_2020 = spark.read.csv('yellow_tripdata_2020-01.csv', header=True, sep=',', inferSchema=False)\n",
        "yellow_jan_2020.show(3)"
      ],
      "execution_count": null,
      "outputs": [
        {
          "output_type": "stream",
          "text": [
            "+--------+--------------------+---------------------+---------------+-------------+----------+------------------+------------+------------+------------+-----------+-----+-------+----------+------------+---------------------+------------+--------------------+\n",
            "|VendorID|tpep_pickup_datetime|tpep_dropoff_datetime|passenger_count|trip_distance|RatecodeID|store_and_fwd_flag|PULocationID|DOLocationID|payment_type|fare_amount|extra|mta_tax|tip_amount|tolls_amount|improvement_surcharge|total_amount|congestion_surcharge|\n",
            "+--------+--------------------+---------------------+---------------+-------------+----------+------------------+------------+------------+------------+-----------+-----+-------+----------+------------+---------------------+------------+--------------------+\n",
            "|       1| 2020-01-01 00:28:15|  2020-01-01 00:33:03|              1|         1.20|         1|                 N|         238|         239|           1|          6|    3|    0.5|      1.47|           0|                  0.3|       11.27|                 2.5|\n",
            "|       1| 2020-01-01 00:35:39|  2020-01-01 00:43:04|              1|         1.20|         1|                 N|         239|         238|           1|          7|    3|    0.5|       1.5|           0|                  0.3|        12.3|                 2.5|\n",
            "|       1| 2020-01-01 00:47:41|  2020-01-01 00:53:52|              1|          .60|         1|                 N|         238|         238|           1|          6|    3|    0.5|         1|           0|                  0.3|        10.8|                 2.5|\n",
            "+--------+--------------------+---------------------+---------------+-------------+----------+------------------+------------+------------+------------+-----------+-----+-------+----------+------------+---------------------+------------+--------------------+\n",
            "only showing top 3 rows\n",
            "\n"
          ],
          "name": "stdout"
        }
      ]
    },
    {
      "cell_type": "code",
      "metadata": {
        "id": "EgRObPRAtR99",
        "colab": {
          "base_uri": "https://localhost:8080/"
        },
        "outputId": "05cf7aa1-b839-4299-c75c-5d37c9e4b90b"
      },
      "source": [
        "green_jan_2020 = spark.read.csv('green_tripdata_2019-01.csv', header=True, sep=',', inferSchema=False)\n",
        "green_jan_2020.show(3)"
      ],
      "execution_count": null,
      "outputs": [
        {
          "output_type": "stream",
          "text": [
            "+--------+--------------------+---------------------+------------------+----------+------------+------------+---------------+-------------+-----------+-----+-------+----------+------------+---------+---------------------+------------+------------+---------+--------------------+\n",
            "|VendorID|lpep_pickup_datetime|lpep_dropoff_datetime|store_and_fwd_flag|RatecodeID|PULocationID|DOLocationID|passenger_count|trip_distance|fare_amount|extra|mta_tax|tip_amount|tolls_amount|ehail_fee|improvement_surcharge|total_amount|payment_type|trip_type|congestion_surcharge|\n",
            "+--------+--------------------+---------------------+------------------+----------+------------+------------+---------------+-------------+-----------+-----+-------+----------+------------+---------+---------------------+------------+------------+---------+--------------------+\n",
            "|       2| 2018-12-21 15:17:29|  2018-12-21 15:18:57|                 N|         1|         264|         264|              5|          .00|          3|  0.5|    0.5|         0|           0|     null|                  0.3|         4.3|           2|        1|                null|\n",
            "|       2| 2019-01-01 00:10:16|  2019-01-01 00:16:32|                 N|         1|          97|          49|              2|          .86|          6|  0.5|    0.5|         0|           0|     null|                  0.3|         7.3|           2|        1|                null|\n",
            "|       2| 2019-01-01 00:27:11|  2019-01-01 00:31:38|                 N|         1|          49|         189|              2|          .66|        4.5|  0.5|    0.5|         0|           0|     null|                  0.3|         5.8|           1|        1|                null|\n",
            "+--------+--------------------+---------------------+------------------+----------+------------+------------+---------------+-------------+-----------+-----+-------+----------+------------+---------+---------------------+------------+------------+---------+--------------------+\n",
            "only showing top 3 rows\n",
            "\n"
          ],
          "name": "stdout"
        }
      ]
    },
    {
      "cell_type": "markdown",
      "metadata": {
        "id": "y1hG9euotVMH"
      },
      "source": [
        "#Combining and Cleaning the Data"
      ]
    },
    {
      "cell_type": "code",
      "metadata": {
        "id": "8SgMMlIFtTnX"
      },
      "source": [
        "#Combining all of the green taxi data into one dataframe\n",
        "from pyspark.sql.types import StructType\n",
        "from pyspark.sql.types import StructField\n",
        "from pyspark.sql.types import StringType\n",
        "\n",
        "tmp = str(spark.read.csv(\"yellow_tripdata_2020-01.csv\",header=True, inferSchema=False).columns)\n",
        "tmp = tmp.replace(\"'\",\"\")\n",
        "tmp = tmp.replace(\"[\",\"\")\n",
        "tmp =tmp.replace(\"]\",\"\")\n",
        "mySchema = StructType([StructField(c, StringType()) for c in tmp.split(\",\")])\n",
        "yellow_df= spark.createDataFrame(data=[], schema=mySchema)\n",
        "for month in ('01','02','03','04','05','06','07','08','09','10','11','12'):\n",
        "  tmp_df = spark.read.csv(\"yellow_tripdata_2019-\"+month+\".csv\",header=True, inferSchema=False)\n",
        "  yellow_2019_df = yellow_df.union(tmp_df)"
      ],
      "execution_count": null,
      "outputs": []
    },
    {
      "cell_type": "code",
      "metadata": {
        "id": "AeqIqHBttavY",
        "colab": {
          "base_uri": "https://localhost:8080/"
        },
        "outputId": "fd9a3423-271e-49cc-eb21-ccae11617dc8"
      },
      "source": [
        "yellow_2019_df.count()"
      ],
      "execution_count": null,
      "outputs": [
        {
          "output_type": "execute_result",
          "data": {
            "text/plain": [
              "6896317"
            ]
          },
          "metadata": {
            "tags": []
          },
          "execution_count": 9
        }
      ]
    },
    {
      "cell_type": "code",
      "metadata": {
        "id": "METpI6watcV5"
      },
      "source": [
        "tmp1 = str(spark.read.csv(\"yellow_tripdata_2020-01.csv\",header=True, inferSchema=False).columns)\n",
        "tmp1 = tmp1.replace(\"'\",\"\")\n",
        "tmp1 = tmp1.replace(\"[\",\"\")\n",
        "tmp1 =tmp1.replace(\"]\",\"\")\n",
        "mySchema = StructType([StructField(c, StringType()) for c in tmp1.split(\",\")])\n",
        "yellow_df= spark.createDataFrame(data=[], schema=mySchema)\n",
        "for month in ('01','02','03','04','05','06'):\n",
        "  tmp_df = spark.read.csv(\"yellow_tripdata_2020-\"+month+\".csv\",header=True, inferSchema=False)\n",
        "  yellow_2020_df = yellow_df.union(tmp_df)"
      ],
      "execution_count": null,
      "outputs": []
    },
    {
      "cell_type": "code",
      "metadata": {
        "id": "XfrGm8Ugtd5D",
        "colab": {
          "base_uri": "https://localhost:8080/"
        },
        "outputId": "b413bb7b-7c41-4613-8cd5-e810593b3a43"
      },
      "source": [
        "yellow_2020_df.count()"
      ],
      "execution_count": null,
      "outputs": [
        {
          "output_type": "execute_result",
          "data": {
            "text/plain": [
              "549760"
            ]
          },
          "metadata": {
            "tags": []
          },
          "execution_count": 11
        }
      ]
    },
    {
      "cell_type": "code",
      "metadata": {
        "id": "y-XaLusAtfyc",
        "colab": {
          "base_uri": "https://localhost:8080/"
        },
        "outputId": "9ed09dc6-ef79-452e-e58e-d659f0efb6b4"
      },
      "source": [
        "#Combining the yellow taxi data\n",
        "yellow_df_total = yellow_2020_df.union(yellow_2019_df)\n",
        "yellow_df_total.count()"
      ],
      "execution_count": null,
      "outputs": [
        {
          "output_type": "execute_result",
          "data": {
            "text/plain": [
              "7446077"
            ]
          },
          "metadata": {
            "tags": []
          },
          "execution_count": 12
        }
      ]
    },
    {
      "cell_type": "code",
      "metadata": {
        "id": "cpUrgLDLth4f"
      },
      "source": [
        "tmp2 = str(spark.read.csv(\"green_tripdata_2019-01.csv\",header=True, inferSchema=False).columns)\n",
        "tmp2 = tmp2.replace(\"'\",\"\")\n",
        "tmp2 = tmp2.replace(\"[\",\"\")\n",
        "tmp2 =tmp2.replace(\"]\",\"\")\n",
        "mySchema = StructType([StructField(c, StringType()) for c in tmp2.split(\",\")])\n",
        "green_df= spark.createDataFrame(data=[], schema=mySchema)\n",
        "for month in ('01','02','03','04','05','06','07','09','11','12'):\n",
        "  tmp_df1 = spark.read.csv(\"green_tripdata_2019-\"+month+\".csv\",header=True, inferSchema=False)\n",
        "  green_2019_df = green_df.union(tmp_df1)"
      ],
      "execution_count": null,
      "outputs": []
    },
    {
      "cell_type": "code",
      "metadata": {
        "id": "SXz7rACVtjlJ",
        "colab": {
          "base_uri": "https://localhost:8080/"
        },
        "outputId": "81344e9c-e735-4c4e-de6e-0666790d9d9b"
      },
      "source": [
        "green_2019_df.count()"
      ],
      "execution_count": null,
      "outputs": [
        {
          "output_type": "execute_result",
          "data": {
            "text/plain": [
              "450627"
            ]
          },
          "metadata": {
            "tags": []
          },
          "execution_count": 14
        }
      ]
    },
    {
      "cell_type": "code",
      "metadata": {
        "id": "Yhx76nmmtlUE"
      },
      "source": [
        "tmp3 = str(spark.read.csv(\"green_tripdata_2020-02.csv\",header=True, inferSchema=False).columns)\n",
        "tmp3 = tmp3.replace(\"'\",\"\")\n",
        "tmp3 = tmp3.replace(\"[\",\"\")\n",
        "tmp3 =tmp3.replace(\"]\",\"\")\n",
        "mySchema = StructType([StructField(c, StringType()) for c in tmp3.split(\",\")])\n",
        "green_df= spark.createDataFrame(data=[], schema=mySchema)\n",
        "for month in ('02','03','04','05','06'):\n",
        "  tmp_df = spark.read.csv(\"green_tripdata_2020-\"+month+\".csv\",header=True, inferSchema=False)\n",
        "  green_2020_df = green_df.union(tmp_df)"
      ],
      "execution_count": null,
      "outputs": []
    },
    {
      "cell_type": "code",
      "metadata": {
        "id": "NJayqHJztm83",
        "colab": {
          "base_uri": "https://localhost:8080/"
        },
        "outputId": "f1083f9d-7523-4b2d-a97d-392f3abb701e"
      },
      "source": [
        "green_2020_df.count()"
      ],
      "execution_count": null,
      "outputs": [
        {
          "output_type": "execute_result",
          "data": {
            "text/plain": [
              "63109"
            ]
          },
          "metadata": {
            "tags": []
          },
          "execution_count": 79
        }
      ]
    },
    {
      "cell_type": "code",
      "metadata": {
        "id": "z5P-Kabktoa-",
        "colab": {
          "base_uri": "https://localhost:8080/"
        },
        "outputId": "3885349b-5ac4-40fe-e52a-39660bb5c7bb"
      },
      "source": [
        "#Combining the green taxi data\n",
        "green_df_total = green_2020_df.union(green_2019_df)\n",
        "green_df_total.count()"
      ],
      "execution_count": null,
      "outputs": [
        {
          "output_type": "execute_result",
          "data": {
            "text/plain": [
              "513736"
            ]
          },
          "metadata": {
            "tags": []
          },
          "execution_count": 107
        }
      ]
    },
    {
      "cell_type": "code",
      "metadata": {
        "id": "GmHazQJCtqKc",
        "colab": {
          "base_uri": "https://localhost:8080/"
        },
        "outputId": "5bc8b854-1508-4fa5-c9f4-ecd84e9c9538"
      },
      "source": [
        "#Dropping the two columns that the green taxi has that the yellow taxi data doesn't\n",
        "green_df_total = green_df_total.drop(' ehail_fee', ' trip_type')\n",
        "\n",
        "len(green_df_total.columns)"
      ],
      "execution_count": null,
      "outputs": [
        {
          "output_type": "execute_result",
          "data": {
            "text/plain": [
              "18"
            ]
          },
          "metadata": {
            "tags": []
          },
          "execution_count": 108
        }
      ]
    },
    {
      "cell_type": "code",
      "metadata": {
        "id": "7VBKpRwvtsOA"
      },
      "source": [
        "#Dropping duplicates in both dataframes\n",
        "green_df_total = green_df_total.dropDuplicates()\n",
        "yellow_df_total = yellow_df_total.dropDuplicates()"
      ],
      "execution_count": null,
      "outputs": []
    },
    {
      "cell_type": "code",
      "metadata": {
        "id": "IsRmsi3Gtt8i"
      },
      "source": [
        "#Renaming a few columns so they are equivalent\n",
        "\n",
        "yellow_df_total = yellow_df_total.withColumnRenamed(\" tpep_pickup_datetime\",\"pickup_datetime\") \\\n",
        "    .withColumnRenamed(\" tpep_dropoff_datetime\",\"dropoff_datetime\")\n",
        "\n",
        "green_df_total = green_df_total.withColumnRenamed(\" lpep_pickup_datetime\",\"pickup_datetime\") \\\n",
        "    .withColumnRenamed(\" lpep_dropoff_datetime\",\"dropoff_datetime\")"
      ],
      "execution_count": null,
      "outputs": []
    },
    {
      "cell_type": "code",
      "metadata": {
        "id": "W9vmY9o6tvuo",
        "colab": {
          "base_uri": "https://localhost:8080/"
        },
        "outputId": "9f7133d7-48d9-464a-ff18-8c227b1a4fd9"
      },
      "source": [
        "#Removing the space in front of the variable names\n",
        "from pyspark.sql import functions as F\n",
        "\n",
        "yellow_df_total = yellow_df_total.select([F.col(col).alias(col.replace(' ', '')) for col in yellow_df_total.columns])\n",
        "green_df_total = green_df_total.select([F.col(col).alias(col.replace(' ', '')) for col in green_df_total.columns])\n",
        "print(yellow_df_total.columns)\n",
        "print(green_df_total.columns)"
      ],
      "execution_count": null,
      "outputs": [
        {
          "output_type": "stream",
          "text": [
            "['VendorID', 'pickup_datetime', 'dropoff_datetime', 'passenger_count', 'trip_distance', 'RatecodeID', 'store_and_fwd_flag', 'PULocationID', 'DOLocationID', 'payment_type', 'fare_amount', 'extra', 'mta_tax', 'tip_amount', 'tolls_amount', 'improvement_surcharge', 'total_amount', 'congestion_surcharge']\n",
            "['VendorID', 'pickup_datetime', 'dropoff_datetime', 'store_and_fwd_flag', 'RatecodeID', 'PULocationID', 'DOLocationID', 'passenger_count', 'trip_distance', 'fare_amount', 'extra', 'mta_tax', 'tip_amount', 'tolls_amount', 'improvement_surcharge', 'total_amount', 'payment_type', 'congestion_surcharge']\n"
          ],
          "name": "stdout"
        }
      ]
    },
    {
      "cell_type": "code",
      "metadata": {
        "id": "wJeMAHoMtyFu",
        "colab": {
          "base_uri": "https://localhost:8080/"
        },
        "outputId": "eb460c8b-a3f2-4196-a5d7-08c1683cd9af"
      },
      "source": [
        "#Combining the green and yellow taxi data\n",
        "df_master = yellow_df_total.union(green_df_total)\n",
        "df_master.show(2)"
      ],
      "execution_count": null,
      "outputs": [
        {
          "output_type": "stream",
          "text": [
            "+--------+-------------------+-------------------+---------------+-------------+----------+------------------+------------+------------+------------+-----------+-----+-------+----------+------------+---------------------+------------+--------------------+\n",
            "|VendorID|    pickup_datetime|   dropoff_datetime|passenger_count|trip_distance|RatecodeID|store_and_fwd_flag|PULocationID|DOLocationID|payment_type|fare_amount|extra|mta_tax|tip_amount|tolls_amount|improvement_surcharge|total_amount|congestion_surcharge|\n",
            "+--------+-------------------+-------------------+---------------+-------------+----------+------------------+------------+------------+------------+-----------+-----+-------+----------+------------+---------------------+------------+--------------------+\n",
            "|       2|2020-06-01 17:42:43|2020-06-01 17:46:27|              1|         1.22|         1|                 N|         142|         238|           1|        5.5|    1|    0.5|      1.96|           0|                  0.3|       11.76|                 2.5|\n",
            "|       2|2020-06-02 19:02:31|2020-06-02 19:16:26|              1|         2.90|         1|                 N|         161|          75|           2|         12|    1|    0.5|         0|           0|                  0.3|        16.3|                 2.5|\n",
            "+--------+-------------------+-------------------+---------------+-------------+----------+------------------+------------+------------+------------+-----------+-----+-------+----------+------------+---------------------+------------+--------------------+\n",
            "only showing top 2 rows\n",
            "\n"
          ],
          "name": "stdout"
        }
      ]
    },
    {
      "cell_type": "code",
      "metadata": {
        "id": "scGpd4S_tzwt",
        "colab": {
          "base_uri": "https://localhost:8080/"
        },
        "outputId": "05b68b03-7bc7-4e12-f45c-fb24519258ea"
      },
      "source": [
        "#More Cleaning\n",
        "df_master.describe().show()"
      ],
      "execution_count": null,
      "outputs": [
        {
          "output_type": "stream",
          "text": [
            "+-------+------------------+-------------------+-------------------+------------------+-----------------+-----------------+------------------+-----------------+------------------+------------------+------------------+------------------+------------------+------------------+-------------------+---------------------+------------------+--------------------+\n",
            "|summary|          VendorID|    pickup_datetime|   dropoff_datetime|   passenger_count|    trip_distance|       RatecodeID|store_and_fwd_flag|     PULocationID|      DOLocationID|      payment_type|       fare_amount|             extra|           mta_tax|        tip_amount|       tolls_amount|improvement_surcharge|      total_amount|congestion_surcharge|\n",
            "+-------+------------------+-------------------+-------------------+------------------+-----------------+-----------------+------------------+-----------------+------------------+------------------+------------------+------------------+------------------+------------------+-------------------+---------------------+------------------+--------------------+\n",
            "|  count|           7742673|            7959811|            7959811|           7742673|          7844408|          7858076|           7858076|          7844408|           7959811|           7858076|           7959811|           7959811|           7959811|           7959811|            7959809|              7959811|           7844408|             7844406|\n",
            "|   mean|1.6705755234658626|               null|               null|1.5376457874164613|2.957944469487054| 8.02413847868104|128.24133843323892|154.9869682963966|151.07142533535037|2.2698479882352864| 12.76623391686062|1.0583430197023522|0.5268360479915927|2.0885195590699666|0.37929561375155046|   1.5216828075439466| 18.65813894943056|  2.1601914472555346|\n",
            "| stddev|0.4700042758582786|               null|               null|1.1653237542980481|90.28213570278774|31.91945104861259| 76.10745070841881|73.77736139994704|211.36781356305255| 5.037799650443601|141.81210625477584|1.2313355802343133|0.5917074720295276|2.8312477979340143|  1.662235415057332|    6.012297930836868|143.12154348792453|  0.8771064802823213|\n",
            "|    min|                 1|2008-12-31 18:13:42|2008-12-31 18:27:42|                 0|             -.01|                1|                 1|                0|              -.01|             -0.01|             -0.01|              -0.5|             -0.01|             -0.01|               -0.3|                 -0.3|             -0.31|               -0.75|\n",
            "|    max|                 2|2090-12-31 06:41:26|2090-12-31 07:18:49|                 Y|            99.01|               99|                 Y|               99|                99|             99.98|             99.99|             90.06|                96|             99.99|                 97|                99.99|             99.99|                   3|\n",
            "+-------+------------------+-------------------+-------------------+------------------+-----------------+-----------------+------------------+-----------------+------------------+------------------+------------------+------------------+------------------+------------------+-------------------+---------------------+------------------+--------------------+\n",
            "\n"
          ],
          "name": "stdout"
        }
      ]
    },
    {
      "cell_type": "code",
      "metadata": {
        "id": "J3FJqN6qt1hs"
      },
      "source": [
        "#Dropping rows with missing values\n",
        "df_master = df_master.dropna()"
      ],
      "execution_count": null,
      "outputs": []
    },
    {
      "cell_type": "code",
      "metadata": {
        "id": "gg8znUvkt3Vb",
        "colab": {
          "base_uri": "https://localhost:8080/"
        },
        "outputId": "04f8aa69-e06d-4f00-bf42-869105caf1ec"
      },
      "source": [
        "#Getting rid of negative trip distances\n",
        "df_master = df_master.filter(df_master.trip_distance>0)\n",
        "df_master.agg({'trip_distance': 'min'}).show()"
      ],
      "execution_count": null,
      "outputs": [
        {
          "output_type": "stream",
          "text": [
            "+------------------+\n",
            "|min(trip_distance)|\n",
            "+------------------+\n",
            "|                 1|\n",
            "+------------------+\n",
            "\n"
          ],
          "name": "stdout"
        }
      ]
    },
    {
      "cell_type": "code",
      "metadata": {
        "id": "J5DjfoRPt5FS",
        "colab": {
          "base_uri": "https://localhost:8080/"
        },
        "outputId": "16257087-00ac-4b88-f032-a6448ace3628"
      },
      "source": [
        "#The minimum passenger count is zero. Going to filter the dataframe to not include those\n",
        "df_master = df_master.filter(df_master.passenger_count>0)\n",
        "df_master.agg({'passenger_count': 'min'}).show()"
      ],
      "execution_count": null,
      "outputs": [
        {
          "output_type": "stream",
          "text": [
            "+--------------------+\n",
            "|min(passenger_count)|\n",
            "+--------------------+\n",
            "|                   1|\n",
            "+--------------------+\n",
            "\n"
          ],
          "name": "stdout"
        }
      ]
    },
    {
      "cell_type": "code",
      "metadata": {
        "id": "e8ZQOwAht6yq",
        "colab": {
          "base_uri": "https://localhost:8080/"
        },
        "outputId": "06be896b-c6c4-4448-e6c8-49a92c8c3c21"
      },
      "source": [
        "#The taxi fare initial charge is $2.50, so we are removing fare amount smaller than this amount.\n",
        "df_master.describe('fare_amount').show()"
      ],
      "execution_count": null,
      "outputs": [
        {
          "output_type": "stream",
          "text": [
            "+-------+------------------+\n",
            "|summary|       fare_amount|\n",
            "+-------+------------------+\n",
            "|  count|           5321187|\n",
            "|   mean|15.588612275794851|\n",
            "| stddev|12.462097796201611|\n",
            "|    min|              -0.3|\n",
            "|    max|              99.5|\n",
            "+-------+------------------+\n",
            "\n"
          ],
          "name": "stdout"
        }
      ]
    },
    {
      "cell_type": "code",
      "metadata": {
        "id": "DdUwI8Ogt8_R"
      },
      "source": [
        "df_master = df_master.where(df_master['fare_amount']>=1.5)"
      ],
      "execution_count": null,
      "outputs": []
    },
    {
      "cell_type": "code",
      "metadata": {
        "id": "dhZ2ssBO2_m4",
        "colab": {
          "base_uri": "https://localhost:8080/"
        },
        "outputId": "e659f93d-907e-45ad-dc85-8997aae37c96"
      },
      "source": [
        "df_master.show(3)"
      ],
      "execution_count": null,
      "outputs": [
        {
          "output_type": "stream",
          "text": [
            "+--------+-------------------+-------------------+---------------+-------------+----------+------------------+------------+------------+------------+-----------+-----+-------+----------+------------+---------------------+------------+--------------------+\n",
            "|VendorID|    pickup_datetime|   dropoff_datetime|passenger_count|trip_distance|RatecodeID|store_and_fwd_flag|PULocationID|DOLocationID|payment_type|fare_amount|extra|mta_tax|tip_amount|tolls_amount|improvement_surcharge|total_amount|congestion_surcharge|\n",
            "+--------+-------------------+-------------------+---------------+-------------+----------+------------------+------------+------------+------------+-----------+-----+-------+----------+------------+---------------------+------------+--------------------+\n",
            "|       2|2020-06-01 17:42:43|2020-06-01 17:46:27|              1|         1.22|         1|                 N|         142|         238|           1|        5.5|    1|    0.5|      1.96|           0|                  0.3|       11.76|                 2.5|\n",
            "|       2|2020-06-02 19:02:31|2020-06-02 19:16:26|              1|         2.90|         1|                 N|         161|          75|           2|         12|    1|    0.5|         0|           0|                  0.3|        16.3|                 2.5|\n",
            "|       2|2020-06-03 09:38:13|2020-06-03 09:47:59|              1|         2.14|         1|                 N|          75|         140|           1|          9|    0|    0.5|         0|           0|                  0.3|        12.3|                 2.5|\n",
            "+--------+-------------------+-------------------+---------------+-------------+----------+------------------+------------+------------+------------+-----------+-----+-------+----------+------------+---------------------+------------+--------------------+\n",
            "only showing top 3 rows\n",
            "\n"
          ],
          "name": "stdout"
        }
      ]
    },
    {
      "cell_type": "markdown",
      "metadata": {
        "id": "9_JORBNm2CJp"
      },
      "source": [
        "#Creating New Variables"
      ]
    },
    {
      "cell_type": "code",
      "metadata": {
        "id": "CCGNnY4DzYT3"
      },
      "source": [
        "#Create datetime features based on pickup_datetime\n",
        "import pyspark.sql.functions as f\n",
        "df_master = df_master.withColumn('pickup_hour',f.hour(df_master['pickup_datetime']))\n",
        "df_master = df_master.withColumn('pickup_dayofweek',f.dayofweek(df_master['pickup_datetime']))\n",
        "df_master = df_master.withColumn('pickup_month',f.month(df_master['pickup_datetime']))\n",
        "df_master = df_master.withColumn('pickup_year',f.year(df_master['pickup_datetime']))"
      ],
      "execution_count": null,
      "outputs": []
    },
    {
      "cell_type": "code",
      "metadata": {
        "id": "hI4bG0Ix3hz_"
      },
      "source": [
        "#Creating a rush hour and overnight variable\n",
        "df_master = df_master.withColumn('rush_hour', f.when((f.col('pickup_hour')==16) |(f.col('pickup_hour')==17) |(f.col('pickup_hour')==18) | (f.col('pickup_hour')==19) |(f.col('pickup_hour')==20)  ,1).otherwise(0))\n",
        "df_master = df_master.withColumn('overnight', f.when((f.col('pickup_hour').between(20,24)) | (f.col('pickup_hour').between(0,6)) ,1).otherwise(0))"
      ],
      "execution_count": null,
      "outputs": []
    },
    {
      "cell_type": "code",
      "metadata": {
        "id": "p_rE-EqSBpdO"
      },
      "source": [
        "#Create datetime features based on dropoff_datetime\n",
        "df_master = df_master.withColumn('dropoff_hour',f.hour(df_master['dropoff_datetime']))\n",
        "df_master = df_master.withColumn('dropoff_dayofweek',f.dayofweek(df_master['dropoff_datetime']))\n",
        "df_master = df_master.withColumn('dropoff_month',f.month(df_master['dropoff_datetime']))\n",
        "df_master = df_master.withColumn('dropoff_year',f.year(df_master['dropoff_datetime']))"
      ],
      "execution_count": null,
      "outputs": []
    },
    {
      "cell_type": "code",
      "metadata": {
        "id": "p9vhlJDQDRvI"
      },
      "source": [
        "#Create columns for the different drop off locations\n",
        "df_master = df_master.withColumn('Standard_Rate', f.when(f.col('RatecodeID')==1,1).otherwise(0))\n",
        "df_master = df_master.withColumn('JFK', f.when(f.col(\"RatecodeID\")==2,1).otherwise(0))\n",
        "df_master = df_master.withColumn('Newark', f.when(f.col(\"RatecodeID\")==3,1).otherwise(0))\n",
        "df_master = df_master.withColumn('Nassau_or_Westchester', f.when(f.col(\"RatecodeID\")==4,1).otherwise(0))\n",
        "df_master = df_master.withColumn('Negotiated_Fare', f.when(f.col(\"RatecodeID\")==5,1).otherwise(0))\n",
        "df_master = df_master.withColumn('Group_ride', f.when(f.col(\"RatecodeID\")==6,1).otherwise(0))"
      ],
      "execution_count": null,
      "outputs": []
    },
    {
      "cell_type": "code",
      "metadata": {
        "id": "cHEQ8uirXCvm"
      },
      "source": [
        "#Create a column for holiday\n",
        "df_master = df_master.withColumn('holiday', f.when((f.col('pickup_datetime')=='2019-01-01') | (f.col('pickup_datetime')=='2019-04-21') | (f.col('pickup_datetime')=='2019-07-04') | (f.col('pickup_datetime')=='2019-11-28') | (f.col('pickup_datetime')=='2029-12-25') | (f.col('pickup_datetime')=='2019-12-31') | (f.col('pickup_datetime')=='2020-01-01'),1).otherwise(0))"
      ],
      "execution_count": null,
      "outputs": []
    },
    {
      "cell_type": "code",
      "metadata": {
        "id": "jewy9w7hXLxr"
      },
      "source": [
        "#Dropping the datetime columns now\n",
        "df_master = df_master.drop('pickup_datetime')\n",
        "df_master = df_master.drop('dropoff_datetime')"
      ],
      "execution_count": null,
      "outputs": []
    },
    {
      "cell_type": "code",
      "metadata": {
        "id": "Sr4kNS1_CgPA",
        "colab": {
          "base_uri": "https://localhost:8080/"
        },
        "outputId": "dc96499b-c9cf-4af2-b182-86a4d36c60fe"
      },
      "source": [
        "df_master.show(3)"
      ],
      "execution_count": null,
      "outputs": [
        {
          "output_type": "stream",
          "text": [
            "+--------+---------------+-------------+----------+------------------+------------+------------+------------+-----------+-----+-------+----------+------------+---------------------+------------+--------------------+-----------+----------------+------------+-----------+---------+---------+------------+-----------------+-------------+------------+-------------+---+------+---------------------+---------------+----------+-------+\n",
            "|VendorID|passenger_count|trip_distance|RatecodeID|store_and_fwd_flag|PULocationID|DOLocationID|payment_type|fare_amount|extra|mta_tax|tip_amount|tolls_amount|improvement_surcharge|total_amount|congestion_surcharge|pickup_hour|pickup_dayofweek|pickup_month|pickup_year|rush_hour|overnight|dropoff_hour|dropoff_dayofweek|dropoff_month|dropoff_year|Standard_Rate|JFK|Newark|Nassau_or_Westchester|Negotiated_Fare|Group_ride|holiday|\n",
            "+--------+---------------+-------------+----------+------------------+------------+------------+------------+-----------+-----+-------+----------+------------+---------------------+------------+--------------------+-----------+----------------+------------+-----------+---------+---------+------------+-----------------+-------------+------------+-------------+---+------+---------------------+---------------+----------+-------+\n",
            "|       2|              1|         1.22|         1|                 N|         142|         238|           1|        5.5|    1|    0.5|      1.96|           0|                  0.3|       11.76|                 2.5|         17|               2|           6|       2020|        1|        0|          17|                2|            6|        2020|            1|  0|     0|                    0|              0|         0|      0|\n",
            "|       2|              1|         2.90|         1|                 N|         161|          75|           2|         12|    1|    0.5|         0|           0|                  0.3|        16.3|                 2.5|         19|               3|           6|       2020|        1|        0|          19|                3|            6|        2020|            1|  0|     0|                    0|              0|         0|      0|\n",
            "|       2|              1|         2.14|         1|                 N|          75|         140|           1|          9|    0|    0.5|         0|           0|                  0.3|        12.3|                 2.5|          9|               4|           6|       2020|        0|        0|           9|                4|            6|        2020|            1|  0|     0|                    0|              0|         0|      0|\n",
            "+--------+---------------+-------------+----------+------------------+------------+------------+------------+-----------+-----+-------+----------+------------+---------------------+------------+--------------------+-----------+----------------+------------+-----------+---------+---------+------------+-----------------+-------------+------------+-------------+---+------+---------------------+---------------+----------+-------+\n",
            "only showing top 3 rows\n",
            "\n"
          ],
          "name": "stdout"
        }
      ]
    },
    {
      "cell_type": "code",
      "metadata": {
        "id": "V9zZqodsCjn_"
      },
      "source": [
        "#Changing data types\n",
        "from pyspark.sql.types import DoubleType\n",
        "df_master = df_master.withColumn(\"trip_distance_Int\", df_master['trip_distance'].cast('int')) \n",
        "df_master = df_master.withColumn(\"fare_amount\", df_master[\"fare_amount\"].cast(DoubleType()))\n",
        "df_master = df_master.withColumn(\"congestion_surcharge\", df_master[\"congestion_surcharge\"].cast(DoubleType()))"
      ],
      "execution_count": null,
      "outputs": []
    },
    {
      "cell_type": "markdown",
      "metadata": {
        "id": "fSSnXHu6lhkH"
      },
      "source": [
        "\n",
        "\n",
        "---\n",
        "\n",
        "\n",
        "\n",
        "---\n",
        "\n"
      ]
    },
    {
      "cell_type": "markdown",
      "metadata": {
        "id": "YFCXCHtYliw6"
      },
      "source": [
        "#Regression"
      ]
    },
    {
      "cell_type": "code",
      "metadata": {
        "id": "-1JWaELCFqfO"
      },
      "source": [
        "df_sample = df_master.sample(0.2)"
      ],
      "execution_count": null,
      "outputs": []
    },
    {
      "cell_type": "code",
      "metadata": {
        "id": "h08fc1ryBtOk"
      },
      "source": [
        "input_df = df_sample[['trip_distance_Int','congestion_surcharge','pickup_hour','pickup_dayofweek','pickup_month','pickup_year','rush_hour','overnight','Standard_Rate','JFK','Newark','Nassau_or_Westchester','Negotiated_Fare','Group_ride','holiday','fare_amount']]"
      ],
      "execution_count": null,
      "outputs": []
    },
    {
      "cell_type": "code",
      "metadata": {
        "id": "QTve9rdQC8sg",
        "colab": {
          "base_uri": "https://localhost:8080/"
        },
        "outputId": "43f8f956-d9ef-448f-9e10-d971d3c15798"
      },
      "source": [
        "input_df.columns[:-1]"
      ],
      "execution_count": null,
      "outputs": [
        {
          "output_type": "execute_result",
          "data": {
            "text/plain": [
              "['trip_distance_Int',\n",
              " 'congestion_surcharge',\n",
              " 'pickup_hour',\n",
              " 'pickup_dayofweek',\n",
              " 'pickup_month',\n",
              " 'pickup_year',\n",
              " 'rush_hour',\n",
              " 'overnight',\n",
              " 'Standard_Rate',\n",
              " 'JFK',\n",
              " 'Newark',\n",
              " 'Nassau_or_Westchester',\n",
              " 'Negotiated_Fare',\n",
              " 'Group_ride',\n",
              " 'holiday']"
            ]
          },
          "metadata": {
            "tags": []
          },
          "execution_count": 143
        }
      ]
    },
    {
      "cell_type": "code",
      "metadata": {
        "id": "2-ASkIQ0liKO",
        "colab": {
          "base_uri": "https://localhost:8080/"
        },
        "outputId": "3c825df4-3e55-4ee5-dbeb-8613713ee975"
      },
      "source": [
        "from pyspark.ml.feature import VectorAssembler\n",
        "assembler = VectorAssembler(inputCols=input_df.columns[:-1], outputCol='features')   #this is a transformer\n",
        "df_final = assembler.transform(input_df).select(['features', 'fare_amount'])     #vectorized dataframe\n",
        "df_final.show(3)"
      ],
      "execution_count": null,
      "outputs": [
        {
          "output_type": "stream",
          "text": [
            "+--------------------+-----------+\n",
            "|            features|fare_amount|\n",
            "+--------------------+-----------+\n",
            "|(15,[0,1,2,3,4,5,...|       11.0|\n",
            "|(15,[0,1,2,3,4,5,...|       15.0|\n",
            "|(15,[0,2,3,4,5,6,...|       13.5|\n",
            "+--------------------+-----------+\n",
            "only showing top 3 rows\n",
            "\n"
          ],
          "name": "stdout"
        }
      ]
    },
    {
      "cell_type": "code",
      "metadata": {
        "id": "kvbMPb1QBbY7"
      },
      "source": [
        "df_train, df_test = df_final.randomSplit([0.7, 0.3])\n",
        "\n",
        "from pyspark.ml.regression import LinearRegression\n",
        "\n",
        "lr = LinearRegression(featuresCol='features', labelCol='fare_amount')   #this is an estimator\n",
        "lr_model = lr.fit(df_train)     #transformer"
      ],
      "execution_count": null,
      "outputs": []
    },
    {
      "cell_type": "code",
      "metadata": {
        "id": "srPNB0L3k_BU",
        "colab": {
          "base_uri": "https://localhost:8080/"
        },
        "outputId": "37acd45b-4c16-49dd-b375-7dcb1f4a3747"
      },
      "source": [
        "lr_model.coefficients    #shows the weights/coefficients of the features"
      ],
      "execution_count": null,
      "outputs": [
        {
          "output_type": "execute_result",
          "data": {
            "text/plain": [
              "DenseVector([0.0445, -3.0938, 0.0252, 0.0692, 0.1524, -0.7459, 0.1056, -0.1833, -0.5957, 36.5095, 47.6086, 56.1702, 59.2599, 0.0, 0.0])"
            ]
          },
          "metadata": {
            "tags": []
          },
          "execution_count": 146
        }
      ]
    },
    {
      "cell_type": "code",
      "metadata": {
        "id": "Z-q9Qwomk_f8",
        "colab": {
          "base_uri": "https://localhost:8080/"
        },
        "outputId": "982ce07b-0068-4890-d868-539462acbde1"
      },
      "source": [
        "lr_model.intercept   #the intercept of the regression equation (b)"
      ],
      "execution_count": null,
      "outputs": [
        {
          "output_type": "execute_result",
          "data": {
            "text/plain": [
              "1525.3612531958636"
            ]
          },
          "metadata": {
            "tags": []
          },
          "execution_count": 147
        }
      ]
    },
    {
      "cell_type": "code",
      "metadata": {
        "id": "UxkxIs17lG-z",
        "colab": {
          "base_uri": "https://localhost:8080/"
        },
        "outputId": "339bb044-6889-4f1f-b5fc-7136eeb740da"
      },
      "source": [
        "#Summary statistics of the linear regression\n",
        "training_sum = lr_model.summary\n",
        "print('RMSE:', training_sum.rootMeanSquaredError)\n",
        "print('MSE:', training_sum.meanSquaredError)\n",
        "print('MAE:', training_sum.meanAbsoluteError)\n",
        "print('R^2:', training_sum.r2)\n",
        "print('Adjusted R^2:', training_sum.r2adj)\n"
      ],
      "execution_count": null,
      "outputs": [
        {
          "output_type": "stream",
          "text": [
            "RMSE: 8.841211643013253\n",
            "MSE: 78.1670233165531\n",
            "MAE: 5.846360914198119\n",
            "R^2: 0.48656367397302436\n",
            "Adjusted R^2: 0.48655333541297685\n"
          ],
          "name": "stdout"
        }
      ]
    },
    {
      "cell_type": "code",
      "metadata": {
        "id": "Skhc0Aqnmtzw",
        "colab": {
          "base_uri": "https://localhost:8080/"
        },
        "outputId": "a5f7d869-10fb-4139-e8fa-e4e937bb5214"
      },
      "source": [
        "lr_predictions = lr_model.transform(df_test)\n",
        "\n",
        "from pyspark.ml.evaluation import RegressionEvaluator\n",
        "lr_evaluator = RegressionEvaluator(predictionCol=\"prediction\", \\\n",
        "                 labelCol=\"fare_amount\",metricName=\"r2\")\n",
        "print(\"R Squared (R2) on test data = %g\" % lr_evaluator.evaluate(lr_predictions))"
      ],
      "execution_count": null,
      "outputs": [
        {
          "output_type": "stream",
          "text": [
            "R Squared (R2) on test data = 0.495344\n"
          ],
          "name": "stdout"
        }
      ]
    },
    {
      "cell_type": "markdown",
      "metadata": {
        "id": "pO1O9Fk6mGBZ"
      },
      "source": [
        "#Decision Tree Regression"
      ]
    },
    {
      "cell_type": "code",
      "metadata": {
        "id": "kyeiMTH7lD9q"
      },
      "source": [
        "from pyspark.ml.regression import DecisionTreeRegressor\n",
        "dt = DecisionTreeRegressor(featuresCol ='features', labelCol = 'fare_amount')\n",
        "dt_model = dt.fit(df_train)\n",
        "dt_predictions = dt_model.transform(df_test)\n",
        "dt_evaluator = RegressionEvaluator(\n",
        "    labelCol=\"fare_amount\", predictionCol=\"prediction\", metricName=\"r2\")"
      ],
      "execution_count": null,
      "outputs": []
    },
    {
      "cell_type": "code",
      "metadata": {
        "id": "yKaDkPhn9pO7",
        "colab": {
          "base_uri": "https://localhost:8080/"
        },
        "outputId": "5d2feb54-f7cc-4331-a7b2-c29671368087"
      },
      "source": [
        "r2 = dt_evaluator.evaluate(dt_predictions)\n",
        "print(\"R^2 on test data = %g\" % r2)"
      ],
      "execution_count": null,
      "outputs": [
        {
          "output_type": "stream",
          "text": [
            "Root Mean Squared Error (RMSE) on test data = 0.908817\n"
          ],
          "name": "stdout"
        }
      ]
    },
    {
      "cell_type": "code",
      "metadata": {
        "id": "dYQGApp26Gg6",
        "colab": {
          "base_uri": "https://localhost:8080/",
          "height": 162
        },
        "outputId": "b196f087-083c-410a-9daa-ecc3c7e504bb"
      },
      "source": [
        "dt_model.featureImportances"
      ],
      "execution_count": null,
      "outputs": [
        {
          "output_type": "error",
          "ename": "NameError",
          "evalue": "ignored",
          "traceback": [
            "\u001b[0;31m---------------------------------------------------------------------------\u001b[0m",
            "\u001b[0;31mNameError\u001b[0m                                 Traceback (most recent call last)",
            "\u001b[0;32m<ipython-input-1-44c4a41dd2f8>\u001b[0m in \u001b[0;36m<module>\u001b[0;34m()\u001b[0m\n\u001b[0;32m----> 1\u001b[0;31m \u001b[0mdt_model\u001b[0m\u001b[0;34m.\u001b[0m\u001b[0mfeatureImportances\u001b[0m\u001b[0;34m\u001b[0m\u001b[0;34m\u001b[0m\u001b[0m\n\u001b[0m",
            "\u001b[0;31mNameError\u001b[0m: name 'dt_model' is not defined"
          ]
        }
      ]
    },
    {
      "cell_type": "code",
      "metadata": {
        "id": "LddSX-Yq9lWx"
      },
      "source": [
        "input_df.take(1)"
      ],
      "execution_count": null,
      "outputs": []
    }
  ]
}